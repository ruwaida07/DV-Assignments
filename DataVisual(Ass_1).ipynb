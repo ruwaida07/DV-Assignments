{
  "nbformat": 4,
  "nbformat_minor": 0,
  "metadata": {
    "colab": {
      "name": "DataVisual(Ass-1).ipynb",
      "provenance": []
    },
    "kernelspec": {
      "name": "python3",
      "display_name": "Python 3"
    },
    "language_info": {
      "name": "python"
    }
  },
  "cells": [
    {
      "cell_type": "markdown",
      "metadata": {
        "id": "gfyz90bJHybv"
      },
      "source": [
        "**ASSIGNMENT DAY 1**"
      ]
    },
    {
      "cell_type": "markdown",
      "metadata": {
        "id": "H0guUxKUH9Sd"
      },
      "source": [
        "**QUE 1:**"
      ]
    },
    {
      "cell_type": "code",
      "metadata": {
        "id": "XDci9B7vHuxI"
      },
      "source": [
        "import numpy as np\n",
        "import pandas as pd\n",
        "import seaborn as sns\n",
        "\n",
        "import matplotlib as mpl\n",
        "import matplotlib.pyplot as plt\n",
        "%matplotlib inline"
      ],
      "execution_count": null,
      "outputs": []
    },
    {
      "cell_type": "code",
      "metadata": {
        "id": "cWEcSCi-IcyP"
      },
      "source": [
        "from numpy.random import randn, randint,uniform,sample"
      ],
      "execution_count": null,
      "outputs": []
    },
    {
      "cell_type": "code",
      "metadata": {
        "colab": {
          "base_uri": "https://localhost:8080/"
        },
        "id": "5nnEiCgbIjns",
        "outputId": "210e53ce-6fef-424a-992f-093484e4cdd5"
      },
      "source": [
        "x=np.arange(0,10)\n",
        "y= x * x \n",
        "x\n"
      ],
      "execution_count": null,
      "outputs": [
        {
          "output_type": "execute_result",
          "data": {
            "text/plain": [
              "array([0, 1, 2, 3, 4, 5, 6, 7, 8, 9])"
            ]
          },
          "metadata": {
            "tags": []
          },
          "execution_count": 3
        }
      ]
    },
    {
      "cell_type": "code",
      "metadata": {
        "colab": {
          "base_uri": "https://localhost:8080/"
        },
        "id": "2REwxO99Innd",
        "outputId": "8cdade96-eb49-4674-8c0e-0f0c1bc33892"
      },
      "source": [
        "y"
      ],
      "execution_count": null,
      "outputs": [
        {
          "output_type": "execute_result",
          "data": {
            "text/plain": [
              "array([ 0,  1,  4,  9, 16, 25, 36, 49, 64, 81])"
            ]
          },
          "metadata": {
            "tags": []
          },
          "execution_count": 4
        }
      ]
    },
    {
      "cell_type": "code",
      "metadata": {
        "colab": {
          "base_uri": "https://localhost:8080/",
          "height": 312
        },
        "id": "MiBdfLvNIt-d",
        "outputId": "d1e515db-5864-4314-b0c7-5e04f2af3f43"
      },
      "source": [
        "plt.plot(x, y, 'r*', linestyle='dashed', linewidth=2, markersize=12)\n",
        "plt.title('2D diagram', color='blue')\n",
        "plt.xlabel('x-axis', color='blue')\n",
        "plt.ylabel('y-axis', color='blue')"
      ],
      "execution_count": null,
      "outputs": [
        {
          "output_type": "execute_result",
          "data": {
            "text/plain": [
              "Text(0, 0.5, 'y-axis')"
            ]
          },
          "metadata": {
            "tags": []
          },
          "execution_count": 5
        },
        {
          "output_type": "display_data",
          "data": {
            "image/png": "[encoded data removed]",
            "text/plain": [
              "<Figure size 432x288 with 1 Axes>"
            ]
          },
          "metadata": {
            "tags": [],
            "needs_background": "light"
          }
        }
      ]
    },
    {
      "cell_type": "markdown",
      "metadata": {
        "id": "T8YZ3pPxI2Ay"
      },
      "source": [
        "**QUE 2:**"
      ]
    },
    {
      "cell_type": "code",
      "metadata": {
        "colab": {
          "base_uri": "https://localhost:8080/",
          "height": 295
        },
        "id": "wwnfFf30Izy9",
        "outputId": "e040d7d8-2ac0-4b66-cb82-2fe2fc3ad931"
      },
      "source": [
        "x=[1,2,3,4,5,6,7] # days of a week\n",
        "y=[160,150,140,145,175,165,180] #sales\n",
        "plt.plot(x, y, 'r*', linestyle='dashed', linewidth=2, markersize=12)\n",
        "plt.title('2D diagram', color='Green')\n",
        "plt.xlabel('Days', color='Green')\n",
        "plt.ylabel('Sales', color='Green')\n",
        "plt.show()"
      ],
      "execution_count": null,
      "outputs": [
        {
          "output_type": "display_data",
          "data": {
            "image/png": "[encoded data removed]",
            "text/plain": [
              "<Figure size 432x288 with 1 Axes>"
            ]
          },
          "metadata": {
            "tags": [],
            "needs_background": "light"
          }
        }
      ]
    }
  ]
}